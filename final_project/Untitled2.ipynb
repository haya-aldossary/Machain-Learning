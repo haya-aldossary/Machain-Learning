{
 "cells": [
  {
   "cell_type": "code",
   "execution_count": 48,
   "metadata": {
    "collapsed": true
   },
   "outputs": [],
   "source": [
    "import sys\n",
    "import pickle\n",
    "sys.path.append(\"../tools/\")\n",
    "from feature_format import featureFormat, targetFeatureSplit\n",
    "from tester import dump_classifier_and_data\n",
    "from sklearn.feature_selection import SelectKBest, f_classif\n",
    "from sklearn.cross_validation import train_test_split, StratifiedShuffleSplit\n",
    "from sklearn.ensemble import AdaBoostClassifier, RandomForestClassifier\n",
    "from sklearn.grid_search import GridSearchCV\n",
    "from sklearn.metrics import recall_score, accuracy_score, precision_score\n",
    "from sklearn.preprocessing import MinMaxScaler\n",
    "from tester import test_classifier\n",
    "import numpy as np\n",
    "from time import time\n",
    "import pandas as pd"
   ]
  },
  {
   "cell_type": "code",
   "execution_count": 49,
   "metadata": {
    "collapsed": true
   },
   "outputs": [],
   "source": [
    "\n",
    "features_list = ['poi', 'salary', 'to_messages', 'deferral_payments', 'total_payments', \n",
    "                 'loan_advances', 'bonus', 'restricted_stock_deferred', \n",
    "                 'deferred_income', 'total_stock_value', 'expenses', 'from_poi_to_this_person', \n",
    "                 'exercised_stock_options', 'from_messages', 'other', 'from_this_person_to_poi', \n",
    "                 'long_term_incentive', 'shared_receipt_with_poi', 'restricted_stock', 'director_fees'] \n",
    "\n",
    "enron_data = pickle.load(open(\"final_project_dataset.pkl\", \"r\") )\n",
    "enron_data = pickle.load(open(\"final_project_dataset.pkl\", \"r\") )\n",
    "df = pd.DataFrame.from_records(list(enron_data.values()))\n",
    "\n",
    "data = featureFormat(enron_data, features_list)\n",
    "labels, features = targetFeatureSplit(data)\n",
    "\n"
   ]
  },
  {
   "cell_type": "code",
   "execution_count": 50,
   "metadata": {
    "collapsed": true
   },
   "outputs": [],
   "source": [
    "scv = StratifiedShuffleSplit(labels, 1000, random_state = 42)\n",
    "RF_acc = []\n",
    "RF_precision = []\n",
    "RF_recall = []\n",
    "\n",
    "svc_acc = []\n",
    "svc_precision = []\n",
    "svc_recall = []\n",
    "\n",
    "LR_acc = []\n",
    "LR_precision = []\n",
    "LR_recall = []"
   ]
  },
  {
   "cell_type": "code",
   "execution_count": 53,
   "metadata": {
    "collapsed": true
   },
   "outputs": [],
   "source": [
    "def cvClassifier(clf, features, labels, cv):\n",
    "    true_negatives = 0\n",
    "    false_negatives = 0\n",
    "    true_positives = 0\n",
    "    false_positives = 0\n",
    "    for train_idx, test_idx in cv: \n",
    "        features_train = []\n",
    "        features_test  = []\n",
    "        labels_train   = []\n",
    "        labels_test    = []\n",
    "        for ii in train_idx:\n",
    "            features_train.append( features[ii] )\n",
    "            labels_train.append( labels[ii] )\n",
    "        for jj in test_idx:\n",
    "            features_test.append( features[jj] )\n",
    "            labels_test.append( labels[jj] )\n",
    "        clf.fit(features_train, labels_train)\n",
    "        predictions = clf.predict(features_test)\n",
    "        for prediction, truth in zip(predictions, labels_test):\n",
    "            if prediction == 0 and truth == 0:\n",
    "                true_negatives += 1\n",
    "            elif prediction == 0 and truth == 1:\n",
    "                false_negatives += 1\n",
    "            elif prediction == 1 and truth == 0:\n",
    "                false_positives += 1\n",
    "            elif prediction == 1 and truth == 1:\n",
    "                true_positives += 1\n",
    "    total_predictions = true_negatives + false_negatives + false_positives + true_positives\n",
    "    accuracy = 1.0*(true_positives + true_negatives)/total_predictions\n",
    "    precision = 1.0*true_positives/(true_positives+false_positives+1)\n",
    "    recall = 1.0*true_positives/(true_positives+false_negatives)\n",
    "    return accuracy, precision, recall\n",
    "\n"
   ]
  },
  {
   "cell_type": "code",
   "execution_count": 54,
   "metadata": {},
   "outputs": [
    {
     "name": "stdout",
     "output_type": "stream",
     "text": [
      "fitting time for k = 1: 79.744\n",
      "RF accuracy: 0.847  precision: 0.360377358491  recall: 0.191\n",
      "svc accuracy: 0.866666666667  precision: 0.0  recall: 0.0\n",
      "LR accuracy: 0.865533333333  precision: 0.359375  recall: 0.0115\n",
      "fitting time for k = 2: 79.526\n",
      "RF accuracy: 0.8286  precision: 0.0878962536023  recall: 0.0305\n",
      "svc accuracy: 0.866666666667  precision: 0.0  recall: 0.0\n",
      "LR accuracy: 0.856866666667  precision: 0.102150537634  recall: 0.0095\n",
      "fitting time for k = 3: 80.548\n",
      "RF accuracy: 0.832266666667  precision: 0.079674796748  recall: 0.0245\n",
      "svc accuracy: 0.866666666667  precision: 0.0  recall: 0.0\n",
      "LR accuracy: 0.855133333333  precision: 0.00568181818182  recall: 0.0005\n",
      "fitting time for k = 4: 81.641\n",
      "RF accuracy: 0.835266666667  precision: 0.158959537572  recall: 0.055\n",
      "svc accuracy: 0.866666666667  precision: 0.0  recall: 0.0\n",
      "LR accuracy: 0.853333333333  precision: 0.0  recall: 0.0\n",
      "fitting time for k = 5: 82.849\n",
      "RF accuracy: 0.840333333333  precision: 0.198170731707  recall: 0.065\n",
      "svc accuracy: 0.866666666667  precision: 0.0  recall: 0.0\n",
      "LR accuracy: 0.834533333333  precision: 0.0725663716814  recall: 0.0205\n",
      "fitting time for k = 6: 81.801\n",
      "RF accuracy: 0.839866666667  precision: 0.1885625966  recall: 0.061\n",
      "svc accuracy: 0.866666666667  precision: 0.0  recall: 0.0\n",
      "LR accuracy: 0.841266666667  precision: 0.135496183206  recall: 0.0355\n",
      "fitting time for k = 7: 81.883\n",
      "RF accuracy: 0.821066666667  precision: 0.104046242775  recall: 0.045\n",
      "svc accuracy: 0.866666666667  precision: 0.0  recall: 0.0\n",
      "LR accuracy: 0.839533333333  precision: 0.314545454545  recall: 0.173\n",
      "fitting time for k = 8: 82.828\n",
      "RF accuracy: 0.8264  precision: 0.150289017341  recall: 0.065\n",
      "svc accuracy: 0.866666666667  precision: 0.0  recall: 0.0\n",
      "LR accuracy: 0.8332  precision: 0.247236180905  recall: 0.123\n",
      "fitting time for k = 9: 82.226\n",
      "RF accuracy: 0.855066666667  precision: 0.394705174489  recall: 0.164\n",
      "svc accuracy: 0.866666666667  precision: 0.0  recall: 0.0\n",
      "LR accuracy: 0.788333333333  precision: 0.179738562092  recall: 0.165\n",
      "fitting time for k = 10: 82.779\n",
      "RF accuracy: 0.850533333333  precision: 0.340760157274  recall: 0.13\n",
      "svc accuracy: 0.866666666667  precision: 0.0  recall: 0.0\n",
      "LR accuracy: 0.8002  precision: 0.20119760479  recall: 0.168\n",
      "fitting time for k = 11: 83.947\n",
      "RF accuracy: 0.852133333333  precision: 0.339677891654  recall: 0.116\n",
      "svc accuracy: 0.866666666667  precision: 0.0  recall: 0.0\n",
      "LR accuracy: 0.805933333333  precision: 0.206563706564  recall: 0.1605\n",
      "fitting time for k = 12: 83.985\n",
      "RF accuracy: 0.851466666667  precision: 0.341192787795  recall: 0.123\n",
      "svc accuracy: 0.866666666667  precision: 0.0  recall: 0.0\n",
      "LR accuracy: 0.803466666667  precision: 0.199493350222  recall: 0.1575\n",
      "fitting time for k = 13: 84.198\n",
      "RF accuracy: 0.849466666667  precision: 0.320388349515  recall: 0.1155\n",
      "svc accuracy: 0.866666666667  precision: 0.0  recall: 0.0\n",
      "LR accuracy: 0.766733333333  precision: 0.127976190476  recall: 0.129\n",
      "fitting time for k = 14: 85.615\n",
      "RF accuracy: 0.855  precision: 0.387468030691  recall: 0.1515\n",
      "svc accuracy: 0.866666666667  precision: 0.0  recall: 0.0\n",
      "LR accuracy: 0.7632  precision: 0.130061934254  recall: 0.1365\n",
      "fitting time for k = 15: 85.475\n",
      "RF accuracy: 0.8516  precision: 0.32457496136  recall: 0.105\n",
      "svc accuracy: 0.866666666667  precision: 0.0  recall: 0.0\n",
      "LR accuracy: 0.7848  precision: 0.157660167131  recall: 0.1415\n",
      "fitting time for k = 16: 88.232\n",
      "RF accuracy: 0.847  precision: 0.273006134969  recall: 0.089\n",
      "svc accuracy: 0.866666666667  precision: 0.0  recall: 0.0\n",
      "LR accuracy: 0.802666666667  precision: 0.207190737355  recall: 0.17\n",
      "fitting time for k = 17: 88.066\n",
      "RF accuracy: 0.848666666667  precision: 0.31048951049  recall: 0.111\n",
      "svc accuracy: 0.866666666667  precision: 0.0  recall: 0.0\n",
      "LR accuracy: 0.797266666667  precision: 0.190249702735  recall: 0.16\n",
      "fitting time for k = 18: 93.975\n",
      "RF accuracy: 0.849466666667  precision: 0.326639892905  recall: 0.122\n",
      "svc accuracy: 0.866666666667  precision: 0.0  recall: 0.0\n",
      "LR accuracy: 0.788333333333  precision: 0.173695893452  recall: 0.1565\n",
      "fitting time for k = 19: 93.456\n",
      "RF accuracy: 0.850933333333  precision: 0.313971742543  recall: 0.1\n",
      "svc accuracy: 0.866666666667  precision: 0.0  recall: 0.0\n",
      "LR accuracy: 0.784866666667  precision: 0.168466522678  recall: 0.156\n"
     ]
    }
   ],
   "source": [
    "from sklearn.svm import SVC\n",
    "from sklearn.linear_model import LogisticRegression\n",
    "from sklearn.ensemble import AdaBoostClassifier\n",
    "for i in range(len(features[0])):\n",
    "    t0 = time()\n",
    "    selector = SelectKBest(f_classif, k = i+1)\n",
    "    selector.fit(features, labels)\n",
    "    reduced_features = selector.fit_transform(features, labels)\n",
    "    cutoff = np.sort(selector.scores_)[::-1][i]\n",
    "    selected_features_list = [f for j, f in enumerate(features_list[1:]) if selector.scores_[j] >= cutoff]\n",
    "    selected_features_list = ['poi'] + selected_features_list\n",
    "    \n",
    "    RF = RandomForestClassifier(random_state=1126)\n",
    "    adaBoost = AdaBoostClassifier(random_state=1126)\n",
    "    x = LogisticRegression (random_state=1126)\n",
    "    s = SVC(random_state=1126)\n",
    "    \n",
    "    acc, precision, recall = cvClassifier(RF, reduced_features, labels, scv)\n",
    "    RF_acc.append(acc)\n",
    "    RF_precision.append(precision)\n",
    "    RF_recall.append(recall)\n",
    "    \n",
    "    acc, precision, recall = cvClassifier(s, reduced_features, labels, scv)\n",
    "    svc_acc.append(acc)\n",
    "    svc_precision.append(precision)\n",
    "    svc_recall.append(recall)\n",
    "\n",
    "    acc, precision, recall = cvClassifier(x, reduced_features, labels, scv)\n",
    "    LR_acc.append(acc)\n",
    "    LR_precision.append(precision)\n",
    "    LR_recall.append(recall)\n",
    "    \n",
    "    print \"fitting time for k = {0}: {1}\".format(i+1, round(time()-t0, 3))\n",
    "    print \"RF accuracy: {0}  precision: {1}  recall: {2}\".format(RF_acc[-1], RF_precision[-1], RF_recall[-1])\n",
    "    print \"svc accuracy: {0}  precision: {1}  recall: {2}\".format(svc_acc[-1], svc_precision[-1], svc_recall[-1])\n",
    "    print \"LR accuracy: {0}  precision: {1}  recall: {2}\".format(LR_acc[-1], LR_precision[-1], LR_recall[-1])\n",
    "    #print \"TN = {0}: FN= {1}: FP = {2}: TP= {3}\".format( true_negatives, false_negatives , false_positives , true_positives)\n",
    "\n"
   ]
  },
  {
   "cell_type": "code",
   "execution_count": 55,
   "metadata": {},
   "outputs": [
    {
     "data": {
      "image/png": "[encoded data removed]",
      "text/plain": [
       "<matplotlib.figure.Figure at 0xf31cb70>"
      ]
     },
     "metadata": {},
     "output_type": "display_data"
    }
   ],
   "source": [
    "import matplotlib.pyplot as plt\n",
    "\n",
    "rfdf = pd.DataFrame({'RF_acc': RF_acc, 'RF_pre': RF_precision, 'RF_rec': RF_recall})\n",
    "svcdf = pd.DataFrame({'SVC_acc': svc_acc, 'SVC_pre': svc_precision, 'SVC_rec': svc_recall}) \n",
    "LRdf = pd.DataFrame({'LR_acc': LR_acc, 'LR_pre': LR_precision, 'LR_rec': LR_recall}) \n",
    "\n",
    "rfdf.plot()\n",
    "plt.show()"
   ]
  },
  {
   "cell_type": "code",
   "execution_count": 56,
   "metadata": {},
   "outputs": [
    {
     "data": {
      "image/png": "[encoded data removed]",
      "text/plain": [
       "<matplotlib.figure.Figure at 0xf1c4f28>"
      ]
     },
     "metadata": {},
     "output_type": "display_data"
    }
   ],
   "source": [
    "svcdf.plot()\n",
    "plt.show()"
   ]
  },
  {
   "cell_type": "code",
   "execution_count": 57,
   "metadata": {},
   "outputs": [
    {
     "data": {
      "image/png": "[encoded data removed]",
      "text/plain": [
       "<matplotlib.figure.Figure at 0xe51d8d0>"
      ]
     },
     "metadata": {},
     "output_type": "display_data"
    }
   ],
   "source": [
    "\n",
    "\n",
    "LRdf.plot()\n",
    "plt.show()"
   ]
  },
  {
   "cell_type": "code",
   "execution_count": null,
   "metadata": {
    "collapsed": true
   },
   "outputs": [],
   "source": []
  },
  {
   "cell_type": "code",
   "execution_count": null,
   "metadata": {
    "collapsed": true
   },
   "outputs": [],
   "source": []
  }
 ],
 "metadata": {
  "kernelspec": {
   "display_name": "Python 2",
   "language": "python",
   "name": "python2"
  },
  "language_info": {
   "codemirror_mode": {
    "name": "ipython",
    "version": 2
   },
   "file_extension": ".py",
   "mimetype": "text/x-python",
   "name": "python",
   "nbconvert_exporter": "python",
   "pygments_lexer": "ipython2",
   "version": "2.7.13"
  }
 },
 "nbformat": 4,
 "nbformat_minor": 2
}
